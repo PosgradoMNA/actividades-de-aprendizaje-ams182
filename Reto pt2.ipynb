{
  "nbformat": 4,
  "nbformat_minor": 0,
  "metadata": {
    "colab": {
      "name": "assignment01.ipynb",
      "provenance": [],
      "include_colab_link": true
    },
    "kernelspec": {
      "name": "python3",
      "display_name": "Python 3"
    },
    "language_info": {
      "name": "python"
    }
  },
  "cells": [
    {
      "cell_type": "markdown",
      "metadata": {
        "id": "view-in-github",
        "colab_type": "text"
      },
      "source": [
        "<a href=\"https://colab.research.google.com/github/PosgradoMNA/actividades-de-aprendizaje-ams182/blob/main/Reto%20pt2.ipynb\" target=\"_parent\"><img src=\"https://colab.research.google.com/assets/colab-badge.svg\" alt=\"Open In Colab\"/></a>"
      ]
    },
    {
      "cell_type": "code",
      "execution_count": 1,
      "metadata": {
        "id": "LzUSMM79NR9P"
      },
      "outputs": [],
      "source": [
        "import requests, zipfile\n",
        "from io import BytesIO\n",
        "\n",
        "import pandas as pd\n",
        "from sklearn.model_selection import train_test_split\n",
        "\n",
        "from sklearn.pipeline import Pipeline\n",
        "from sklearn.compose import ColumnTransformer\n",
        "from sklearn.impute import SimpleImputer\n",
        "from sklearn.preprocessing import MinMaxScaler, OneHotEncoder,LabelEncoder\n",
        "\n",
        "from sklearn.metrics import confusion_matrix, make_scorer\n",
        "from sklearn.linear_model import LogisticRegression\n",
        "from sklearn.tree import DecisionTreeClassifier\n",
        "from sklearn.ensemble import RandomForestClassifier\n",
        "\n",
        "import numpy as np\n",
        "from sklearn.model_selection import cross_val_score\n",
        "from sklearn.model_selection import cross_validate, RepeatedStratifiedKFold\n",
        "import matplotlib.pyplot as plt\n",
        "from sklearn.preprocessing import FunctionTransformer\n",
        "\n",
        "from sklearn.model_selection import GridSearchCV\n",
        "from sklearn.metrics import f1_score\n",
        "from sklearn.model_selection import learning_curve, validation_curve\n",
        "import seaborn as sns\n",
        "\n",
        "from sklearn import tree\n",
        "import pydotplus \n",
        "from IPython.display import Image\n",
        "from sklearn.datasets import load_iris\n",
        "\n",
        "\n",
        "import pprint\n",
        "pd.set_option('display.max_columns', None)\n"
      ]
    },
    {
      "cell_type": "code",
      "source": [
        "# Cargando bases simplificadas\n",
        "#directorio = 'C:/Users/AMUNGUIA/Desktop/pia/actividades/bases/Base agua reto/'\n",
        "\n",
        "# Para regresión, solo numericas con valores de -1 unidad y 1=v 2=a 3 =r\n",
        "url = 'https://raw.githubusercontent.com/PosgradoMNA/actividades-de-aprendizaje-ams182/main/agua_numericas.csv'\n",
        "df_numerico = pd.read_csv(url,encoding='latin-1',sep=\",\")\n",
        "# # Para clasificación, solo categóricas  y 1=v 2=a 3 =r\n",
        "url = 'https://raw.githubusercontent.com/PosgradoMNA/actividades-de-aprendizaje-ams182/main/agua_categoricas.csv'\n",
        "df_categorico = pd.read_csv(url,encoding='latin-1',sep=\",\") # Para clasificación\n",
        "\n",
        "# Seleccionando el DF de análisis\n",
        "df = df_categorico\n",
        "\n",
        "# acotando el análisis a estado, esto puede cambiarse dependiento el marco de experimentación:\n",
        "df.drop(['SITIO', 'ORGANISMO_DE_CUENCA', 'MUNICIPIO', 'ACUIFERO'], axis=1, inplace = True)\n",
        "\n",
        "#Variavles \n",
        "Y = df['SEMAFORO']\n",
        "X = df.drop('SEMAFORO',axis=1)\n",
        "#al ser todas categoricas, se complementa con la moda en caso de tener NAN's\n",
        "for col in X.columns:\n",
        "    X[col].fillna(value = X[col].mode()[0],inplace = True)\n",
        "    \n",
        "# Validando Nan y nulls\n",
        "print('Las indepentiendes tienen valores NULL: ' + str(X.isnull().values.any()) + '\\n'\n",
        "      'Las indepentiendes tienen valores Nan: ' + str(X.isna().values.any())+ '\\n') \n",
        "\n",
        "print('La dependiente  tiene valores NULL: ' + str(Y.isnull().values.any()) + '\\n'\n",
        "      'La dependiente  tiene valores Nan: ' + str(Y.isna().values.any())+ '\\n')\n",
        "\n",
        "#diviendo los datos\n",
        "Xtv, Xtest, ytv, ytest = train_test_split(X, Y, test_size=0.20, stratify=Y, random_state=1)\n",
        "print(Xtv.shape, ': dimensión de datos de entrada para entrenamiento y validación')\n",
        "print(Xtest.shape, ': dimensión de datos de entrada para prueba')  \n",
        "\n",
        "print(ytv.shape, ': dimensión de variable de salida para entrenamiento y validación')\n",
        "print(ytest.shape, ': dimensión de variable de salida para prueba')\n",
        "\n"
      ],
      "metadata": {
        "id": "mxM_WppZPMFx",
        "colab": {
          "base_uri": "https://localhost:8080/"
        },
        "outputId": "39ac0dac-3a64-4e3c-8c0b-ae9c61d66660"
      },
      "execution_count": 2,
      "outputs": [
        {
          "output_type": "stream",
          "name": "stdout",
          "text": [
            "Las indepentiendes tienen valores NULL: False\n",
            "Las indepentiendes tienen valores Nan: False\n",
            "\n",
            "La dependiente  tiene valores NULL: False\n",
            "La dependiente  tiene valores Nan: False\n",
            "\n",
            "(854, 35) : dimensión de datos de entrada para entrenamiento y validación\n",
            "(214, 35) : dimensión de datos de entrada para prueba\n",
            "(854,) : dimensión de variable de salida para entrenamiento y validación\n",
            "(214,) : dimensión de variable de salida para prueba\n"
          ]
        }
      ]
    }
  ]
}