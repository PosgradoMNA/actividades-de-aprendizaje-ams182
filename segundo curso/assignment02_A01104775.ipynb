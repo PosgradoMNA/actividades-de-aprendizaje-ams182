{
  "nbformat": 4,
  "nbformat_minor": 0,
  "metadata": {
    "colab": {
      "name": "assignment01.ipynb",
      "provenance": [],
      "include_colab_link": true
    },
    "kernelspec": {
      "name": "python3",
      "display_name": "Python 3"
    },
    "language_info": {
      "name": "python"
    }
  },
  "cells": [
    {
      "cell_type": "markdown",
      "metadata": {
        "id": "view-in-github",
        "colab_type": "text"
      },
      "source": [
        "<a href=\"https://colab.research.google.com/github/PosgradoMNA/actividades-de-aprendizaje-ams182/blob/main/segundo%20curso/assignment02_A01104775.ipynb\" target=\"_parent\"><img src=\"https://colab.research.google.com/assets/colab-badge.svg\" alt=\"Open In Colab\"/></a>"
      ]
    },
    {
      "cell_type": "code",
      "execution_count": null,
      "metadata": {
        "id": "LzUSMM79NR9P"
      },
      "outputs": [],
      "source": [
        "#Resumen de actividades semana 3\n",
        "\n",
        "# Alejandro Munguia Salazar A01104775\n",
        "\n",
        "# Semana 4: Data Analysis with Python (IBM) \n",
        "# Mod 2"
      ]
    }
  ]
}