{
  "nbformat": 4,
  "nbformat_minor": 0,
  "metadata": {
    "colab": {
      "name": "assignment01.ipynb",
      "provenance": [],
      "include_colab_link": true
    },
    "kernelspec": {
      "name": "python3",
      "display_name": "Python 3"
    },
    "language_info": {
      "name": "python"
    }
  },
  "cells": [
    {
      "cell_type": "markdown",
      "metadata": {
        "id": "view-in-github",
        "colab_type": "text"
      },
      "source": [
        "<a href=\"https://colab.research.google.com/github/PosgradoMNA/actividades-de-aprendizaje-ams182/blob/main/assignment01.ipynb\" target=\"_parent\"><img src=\"https://colab.research.google.com/assets/colab-badge.svg\" alt=\"Open In Colab\"/></a>"
      ]
    },
    {
      "cell_type": "code",
      "execution_count": 1,
      "metadata": {
        "id": "LzUSMM79NR9P"
      },
      "outputs": [],
      "source": [
        "#Resumen de actividades semana 3\n",
        "\n",
        "# Alejandro Munguia Salazar A01104775\n",
        "\n",
        "# Semana 4: Data Analysis with Python (IBM) \n",
        "# Mod 1 "
      ]
    },
    {
      "cell_type": "markdown",
      "source": [
        "El problema es la predicción de los precios de los autos con base en sus características,\n",
        "\n",
        "se usara: \n",
        "\n",
        "pandas para la manipulación de datos\n",
        "munpy para las operaciones matematicas\n",
        "scipy para las operaciones de calculo y optimización\n",
        "mathplotlib y seaborn para visualizacion\n",
        "scikitlearn para los algoritmos de ml\n",
        "statsmodel para los modelos estadísticos\n",
        "\n",
        "\n",
        "1.- el curso verifica que tipo de variable es cada una (df.dtypes).\n",
        "2.- df.describe(include='all') para los estadísticos del DF\n",
        "3.- df.info las 30 primeras y ultimas lineas del DF"
      ],
      "metadata": {
        "id": "JlwuangGZIx5"
      }
    },
    {
      "cell_type": "code",
      "source": [
        "#Lab 1\n",
        "\n",
        "import pandas as pd\n",
        "import numpy as np\n",
        "\n",
        "#ubicacion\n",
        "path = \"https://cf-courses-data.s3.us.cloud-object-storage.appdomain.cloud/IBMDeveloperSkillsNetwork-DA0101EN-SkillsNetwork/labs/Data%20files/auto.csv\"\n",
        "\n",
        "# Read the online file by the URL provides above, and assign it to variable \"df\"\n",
        "df = pd.read_csv(path, header=None)\n",
        "\n",
        "headers = [\"symboling\",\"normalized-losses\",\"make\",\"fuel-type\",\"aspiration\", \"num-of-doors\",\"body-style\",\n",
        "         \"drive-wheels\",\"engine-location\",\"wheel-base\", \"length\",\"width\",\"height\",\"curb-weight\",\"engine-type\",\n",
        "         \"num-of-cylinders\", \"engine-size\",\"fuel-system\",\"bore\",\"stroke\",\"compression-ratio\",\"horsepower\",\n",
        "         \"peak-rpm\",\"city-mpg\",\"highway-mpg\",\"price\"]\n",
        "df.columns = headers\n",
        "df.head(3)\n",
        "\n",
        "df1=df.replace('?',np.NaN) #elimina los simbolos ?\"\n",
        "df=df1.dropna(subset=[\"price\"], axis=0) #elmina los Nan\n",
        "\n",
        "print(df.columns)\n",
        "df.to_csv(\"automobile.csv\", index=False) # Salvando el archivo\n",
        "\n",
        "df.describe(include = \"all\") # describiendo los datos\n",
        "df[['length', 'compression-ratio']].describe() #describiendo solo ese par de columnas\n",
        "df.info() # info del df"
      ],
      "metadata": {
        "id": "9EDpxfZ6ZLZC",
        "outputId": "9ef5f232-0090-4e67-894c-a615c10a4503",
        "colab": {
          "base_uri": "https://localhost:8080/"
        }
      },
      "execution_count": 2,
      "outputs": [
        {
          "output_type": "stream",
          "name": "stdout",
          "text": [
            "Index(['symboling', 'normalized-losses', 'make', 'fuel-type', 'aspiration',\n",
            "       'num-of-doors', 'body-style', 'drive-wheels', 'engine-location',\n",
            "       'wheel-base', 'length', 'width', 'height', 'curb-weight', 'engine-type',\n",
            "       'num-of-cylinders', 'engine-size', 'fuel-system', 'bore', 'stroke',\n",
            "       'compression-ratio', 'horsepower', 'peak-rpm', 'city-mpg',\n",
            "       'highway-mpg', 'price'],\n",
            "      dtype='object')\n",
            "<class 'pandas.core.frame.DataFrame'>\n",
            "Int64Index: 201 entries, 0 to 204\n",
            "Data columns (total 26 columns):\n",
            " #   Column             Non-Null Count  Dtype  \n",
            "---  ------             --------------  -----  \n",
            " 0   symboling          201 non-null    int64  \n",
            " 1   normalized-losses  164 non-null    object \n",
            " 2   make               201 non-null    object \n",
            " 3   fuel-type          201 non-null    object \n",
            " 4   aspiration         201 non-null    object \n",
            " 5   num-of-doors       199 non-null    object \n",
            " 6   body-style         201 non-null    object \n",
            " 7   drive-wheels       201 non-null    object \n",
            " 8   engine-location    201 non-null    object \n",
            " 9   wheel-base         201 non-null    float64\n",
            " 10  length             201 non-null    float64\n",
            " 11  width              201 non-null    float64\n",
            " 12  height             201 non-null    float64\n",
            " 13  curb-weight        201 non-null    int64  \n",
            " 14  engine-type        201 non-null    object \n",
            " 15  num-of-cylinders   201 non-null    object \n",
            " 16  engine-size        201 non-null    int64  \n",
            " 17  fuel-system        201 non-null    object \n",
            " 18  bore               197 non-null    object \n",
            " 19  stroke             197 non-null    object \n",
            " 20  compression-ratio  201 non-null    float64\n",
            " 21  horsepower         199 non-null    object \n",
            " 22  peak-rpm           199 non-null    object \n",
            " 23  city-mpg           201 non-null    int64  \n",
            " 24  highway-mpg        201 non-null    int64  \n",
            " 25  price              201 non-null    object \n",
            "dtypes: float64(5), int64(5), object(16)\n",
            "memory usage: 42.4+ KB\n"
          ]
        }
      ]
    }
  ]
}